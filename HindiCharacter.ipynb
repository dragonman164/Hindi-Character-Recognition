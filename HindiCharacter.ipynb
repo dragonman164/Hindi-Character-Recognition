{
  "nbformat": 4,
  "nbformat_minor": 0,
  "metadata": {
    "colab": {
      "name": "HindiCharacter.ipynb",
      "provenance": [],
      "collapsed_sections": []
    },
    "kernelspec": {
      "name": "python3",
      "display_name": "Python 3"
    },
    "language_info": {
      "name": "python"
    }
  },
  "cells": [
    {
      "cell_type": "code",
      "metadata": {
        "colab": {
          "base_uri": "https://localhost:8080/"
        },
        "id": "_rqt8R547RMe",
        "outputId": "2b14ce61-6e24-42fb-8304-b62ae65cbecd"
      },
      "source": [
        "from google.colab import drive\n",
        "drive.mount('/content/drive')"
      ],
      "execution_count": 1,
      "outputs": [
        {
          "output_type": "stream",
          "text": [
            "Drive already mounted at /content/drive; to attempt to forcibly remount, call drive.mount(\"/content/drive\", force_remount=True).\n"
          ],
          "name": "stdout"
        }
      ]
    },
    {
      "cell_type": "code",
      "metadata": {
        "colab": {
          "base_uri": "https://localhost:8080/"
        },
        "id": "Cxm_nDuP7Rp2",
        "outputId": "a3766c93-7908-4ce9-9dd2-3c7aae51f971"
      },
      "source": [
        "!ls"
      ],
      "execution_count": null,
      "outputs": [
        {
          "output_type": "stream",
          "text": [
            "drive  sample_data\n"
          ],
          "name": "stdout"
        }
      ]
    },
    {
      "cell_type": "code",
      "metadata": {
        "colab": {
          "base_uri": "https://localhost:8080/"
        },
        "id": "uMEqrVWx7iFv",
        "outputId": "febde6c5-8a64-4667-aacb-96d022af6eef"
      },
      "source": [
        "!ls drive/MyDrive/dataset/"
      ],
      "execution_count": 3,
      "outputs": [
        {
          "output_type": "stream",
          "text": [
            " create_sample_output.py\t\t leaderboard.json      test.zip\n",
            " create_sample_output.py.gdoc\t\t README.txt\t       training.zip\n",
            "'Information on Problem Statement.pdf'\t sample_result1.json\n"
          ],
          "name": "stdout"
        }
      ]
    },
    {
      "cell_type": "code",
      "metadata": {
        "colab": {
          "base_uri": "https://localhost:8080/"
        },
        "id": "G7mUL23h7n_y",
        "outputId": "e60f8cbb-8a98-403f-e0aa-3ae1f8570139"
      },
      "source": [
        "!cp -r drive/MyDrive/dataset/ ."
      ],
      "execution_count": 4,
      "outputs": [
        {
          "output_type": "stream",
          "text": [
            "cp: cannot open 'drive/MyDrive/dataset/create_sample_output.py.gdoc' for reading: Operation not supported\n"
          ],
          "name": "stdout"
        }
      ]
    },
    {
      "cell_type": "code",
      "metadata": {
        "id": "QiblOQ1E8Dwn"
      },
      "source": [
        "import zipfile\n",
        "with zipfile.ZipFile(\"dataset/training.zip\",\"r\") as zip_ref:\n",
        "    zip_ref.extractall(\"training\")"
      ],
      "execution_count": 5,
      "outputs": []
    },
    {
      "cell_type": "code",
      "metadata": {
        "id": "l3QHzopx9CqW"
      },
      "source": [
        "import zipfile\n",
        "with zipfile.ZipFile(\"dataset/test.zip\",\"r\") as zip_ref:\n",
        "    zip_ref.extractall(\".\")"
      ],
      "execution_count": 6,
      "outputs": []
    },
    {
      "cell_type": "code",
      "metadata": {
        "id": "0Az9hbIG9bZC"
      },
      "source": [
        "import os\n",
        "import random \n",
        "from shutil import copyfile\n"
      ],
      "execution_count": 7,
      "outputs": []
    },
    {
      "cell_type": "code",
      "metadata": {
        "id": "n2p4kgQt_pAK"
      },
      "source": [
        "train_percentage = 75\n",
        "test_percentage = 25"
      ],
      "execution_count": 8,
      "outputs": []
    },
    {
      "cell_type": "code",
      "metadata": {
        "id": "jsnpMmg__ruX"
      },
      "source": [
        "os.mkdir('train')\n",
        "os.mkdir('test')\n",
        "os.mkdir('train/Positive')\n",
        "os.mkdir('train/Negative')\n",
        "os.mkdir('test/Positive')\n",
        "os.mkdir('test/Negative')"
      ],
      "execution_count": 10,
      "outputs": []
    },
    {
      "cell_type": "code",
      "metadata": {
        "id": "JCUpK-Ay_typ"
      },
      "source": [
        "pos_class_files = os.listdir('training/Positive')\n",
        "negative_class_files = os.listdir('training/Negative')\n",
        "pc = len(pos_class_files)\n",
        "nc = len(negative_class_files)\n",
        "pc_train = int((train_percentage/100)*pc)\n",
        "pc_test = pc - pc_train\n",
        "nc_train = int((train_percentage/100)*nc)\n",
        "nc_test = nc - nc_train\n",
        "random.shuffle(pos_class_files)\n",
        "random.shuffle(negative_class_files)\n",
        "\n",
        "for i in range(pc_train):\n",
        "    copyfile(f'./training/Positive/{pos_class_files[i]}',f'./train/Positive/{pos_class_files[i]}')\n",
        "\n",
        "for i in range(pc_train,pc):\n",
        "    copyfile(f'./training/Positive/{pos_class_files[i]}',f'./test/Positive/{pos_class_files[i]}')\n",
        "\n",
        "for i in range(nc_train):\n",
        "    copyfile(f'./training/Negative/{negative_class_files[i]}',f'./train/Negative/{negative_class_files[i]}')\n",
        "\n",
        "for i in range(nc_train,nc):\n",
        "    copyfile(f'./training/Negative/{negative_class_files[i]}',f'./test/Negative/{negative_class_files[i]}')\n",
        "\n"
      ],
      "execution_count": 12,
      "outputs": []
    },
    {
      "cell_type": "code",
      "metadata": {
        "id": "GSp13d8k_3U8"
      },
      "source": [
        "\n",
        "from numpy import loadtxt\n",
        "from xgboost import XGBClassifier\n",
        "from sklearn.model_selection import train_test_split\n",
        "from sklearn.metrics import accuracy_score\n",
        "import cv2\n",
        "import numpy as np\n",
        "import os\n",
        "from PIL import Image\n",
        "import numpy as np"
      ],
      "execution_count": 3,
      "outputs": []
    },
    {
      "cell_type": "code",
      "metadata": {
        "id": "NjrfnJHSAHPQ"
      },
      "source": [
        "from google.colab.patches import cv2_imshow\n",
        "x = []\n",
        "files = os.listdir(\"training/Negative\")\n",
        "for i in files:\n",
        "    img = cv2.imread(f\"training/Negative/{i}\")\n",
        "    gray = cv2.cvtColor(img, cv2.COLOR_BGR2GRAY)\n",
        "    x.append(gray)\n",
        "\n",
        "\n",
        "\n",
        "files = os.listdir(\"training/Positive\")\n",
        "for i in files:\n",
        "    img = cv2.imread(f\"training/Positive/{i}\")\n",
        "    gray = cv2.cvtColor(img, cv2.COLOR_BGR2GRAY)\n",
        "    x.append(gray)"
      ],
      "execution_count": 7,
      "outputs": []
    },
    {
      "cell_type": "code",
      "metadata": {
        "colab": {
          "base_uri": "https://localhost:8080/"
        },
        "id": "GBwS2BMSAJ-R",
        "outputId": "c7c76d0b-0e0b-44fe-a896-247d628fc063"
      },
      "source": [
        "x = np.array(x)\n",
        "y = []\n",
        "for i in range(0,4450):\n",
        "  y.append(int(0)) #for bg\n",
        "for i in range(4450,5875):\n",
        "  y.append(int(1)) #for text\n",
        "y = np.array(y)\n",
        "y.shape\n",
        "\n"
      ],
      "execution_count": 17,
      "outputs": [
        {
          "output_type": "execute_result",
          "data": {
            "text/plain": [
              "(5875,)"
            ]
          },
          "metadata": {},
          "execution_count": 17
        }
      ]
    },
    {
      "cell_type": "code",
      "metadata": {
        "id": "yO26dxpsALNb"
      },
      "source": [
        "x_train, x_test, y_train, y_test = train_test_split(x, y, test_size=0.30, random_state=314)"
      ],
      "execution_count": 18,
      "outputs": []
    },
    {
      "cell_type": "code",
      "metadata": {
        "id": "K2Iw4REqANm4"
      },
      "source": [
        "x_train = x_train.reshape(-1,64,64,1)\n",
        "x_test = x_test.reshape(-1,64,64,1)"
      ],
      "execution_count": 19,
      "outputs": []
    },
    {
      "cell_type": "code",
      "metadata": {
        "id": "VL9vuRYIBTQu"
      },
      "source": [
        "from tensorflow.keras import datasets, layers, models\n",
        "import tensorflow as tf\n",
        "import keras\n",
        "from tensorflow.keras.optimizers import Adam"
      ],
      "execution_count": 23,
      "outputs": []
    },
    {
      "cell_type": "code",
      "metadata": {
        "id": "EnovmgRPBYiK"
      },
      "source": [
        "cnn = models.Sequential([\n",
        "    layers.Conv2D(filters=16, kernel_size=(3, 3), activation='relu', input_shape=(64, 64,1)), #layer 1\n",
        "    layers.MaxPooling2D((2, 2)),\n",
        "    layers.Dropout(0.25),\n",
        "\n",
        "    layers.Conv2D(filters=32, kernel_size=(3, 3), activation='relu'), #layer 2\n",
        "    layers.MaxPooling2D((2, 2)),\n",
        "    layers.Dropout(0.25),\n",
        "    \n",
        "    layers.Conv2D(filters=64, kernel_size=(3, 3), activation='relu'), #layer 3\n",
        "    layers.MaxPooling2D((2, 2)),\n",
        "    layers.Dropout(0.25),\n",
        "    \n",
        "    layers.Conv2D(filters=128, kernel_size=(3, 3), activation='relu'), #layer 4\n",
        "    layers.MaxPooling2D((2, 2)),\n",
        "\n",
        "    layers.Flatten(),\n",
        "    # layers.Dense(80, activation='relu'), ##reducing nodes\n",
        "    layers.Dense(80, activation='relu'), ##reducing nodes\n",
        "    layers.Dense(30, activation='relu'), ##reducing nodes\n",
        "    layers.Dropout(0.3),\n",
        "    layers.Dense(1, activation='sigmoid')\n",
        "])\n",
        "# lr_schedule = keras.optimizers.schedules.ExponentialDecay(\n",
        "#     initial_learning_rate=1e-2,\n",
        "#     decay_steps=10000,\n",
        "#     decay_rate=0.9)\n",
        "opt = Adam(learning_rate=0.001)\n",
        "cnn.compile(optimizer=opt, \n",
        "              loss='binary_crossentropy',\n",
        "              metrics=['accuracy'])"
      ],
      "execution_count": 24,
      "outputs": []
    },
    {
      "cell_type": "code",
      "metadata": {
        "colab": {
          "base_uri": "https://localhost:8080/"
        },
        "id": "AxEkd_IPF0OX",
        "outputId": "a05baeac-add4-420c-e489-9976fc51a808"
      },
      "source": [
        "cnn.fit(x_train, y_train, epochs=10, batch_size = 64, validation_data=(x_test, y_test))\n"
      ],
      "execution_count": 26,
      "outputs": [
        {
          "output_type": "stream",
          "text": [
            "Epoch 1/10\n",
            "65/65 [==============================] - 15s 227ms/step - loss: 0.5509 - accuracy: 0.7605 - val_loss: 0.6137 - val_accuracy: 0.7476\n",
            "Epoch 2/10\n",
            "65/65 [==============================] - 15s 226ms/step - loss: 0.5356 - accuracy: 0.7614 - val_loss: 0.6084 - val_accuracy: 0.7499\n",
            "Epoch 3/10\n",
            "65/65 [==============================] - 15s 226ms/step - loss: 0.4990 - accuracy: 0.7629 - val_loss: 0.5649 - val_accuracy: 0.8128\n",
            "Epoch 4/10\n",
            "65/65 [==============================] - 15s 227ms/step - loss: 0.4352 - accuracy: 0.8081 - val_loss: 0.5251 - val_accuracy: 0.8741\n",
            "Epoch 5/10\n",
            "65/65 [==============================] - 15s 228ms/step - loss: 0.3891 - accuracy: 0.8388 - val_loss: 0.4931 - val_accuracy: 0.8729\n",
            "Epoch 6/10\n",
            "65/65 [==============================] - 15s 228ms/step - loss: 0.3445 - accuracy: 0.8614 - val_loss: 0.4290 - val_accuracy: 0.8837\n",
            "Epoch 7/10\n",
            "65/65 [==============================] - 15s 226ms/step - loss: 0.2999 - accuracy: 0.8908 - val_loss: 0.3957 - val_accuracy: 0.9002\n",
            "Epoch 8/10\n",
            "65/65 [==============================] - 15s 227ms/step - loss: 0.2831 - accuracy: 0.8935 - val_loss: 0.4431 - val_accuracy: 0.8718\n",
            "Epoch 9/10\n",
            "65/65 [==============================] - 15s 226ms/step - loss: 0.2582 - accuracy: 0.9064 - val_loss: 0.3232 - val_accuracy: 0.9126\n",
            "Epoch 10/10\n",
            "65/65 [==============================] - 15s 225ms/step - loss: 0.2726 - accuracy: 0.8998 - val_loss: 0.3422 - val_accuracy: 0.9104\n"
          ],
          "name": "stdout"
        },
        {
          "output_type": "execute_result",
          "data": {
            "text/plain": [
              "<keras.callbacks.History at 0x7ff89958f710>"
            ]
          },
          "metadata": {},
          "execution_count": 26
        }
      ]
    },
    {
      "cell_type": "code",
      "metadata": {
        "id": "6udXtQDQF1Uh"
      },
      "source": [
        "\n",
        "test_data = {}\n",
        "files = os.listdir(\"question\")\n",
        "for i in files:\n",
        "    img = cv2.imread(f'question/{i}')\n",
        "    gray = cv2.cvtColor(img, cv2.COLOR_BGR2GRAY)\n",
        "    test_data[i]=gray\n",
        "\n",
        "\n",
        "test_data1 = np.array(list(test_data.values()))\n",
        "test_data1 = test_data1.reshape(-1,64,64,1)\n",
        "prediction = cnn.predict(test_data1)\n"
      ],
      "execution_count": 31,
      "outputs": []
    },
    {
      "cell_type": "code",
      "metadata": {
        "colab": {
          "base_uri": "https://localhost:8080/"
        },
        "id": "Bng-LDSiIE_V",
        "outputId": "84a4213d-07da-4a16-d12a-21ec4342cf1d"
      },
      "source": [
        "\n",
        "for img,i in zip(list(test_data.keys()),prediction):\n",
        "  if i <0.5:\n",
        "    test_data[img] = 0\n",
        "  else:\n",
        "    test_data[img] = 1\n",
        "\n",
        "for elem in test_data : \n",
        "  print(elem,test_data[elem])"
      ],
      "execution_count": 34,
      "outputs": [
        {
          "output_type": "stream",
          "text": [
            "95.jpg 0\n",
            "26.jpg 1\n",
            "40.jpg 0\n",
            "52.jpg 1\n",
            "13.jpg 1\n",
            "23.jpg 1\n",
            "24.jpg 1\n",
            "37.jpg 0\n",
            "14.jpg 0\n",
            "96.jpg 0\n",
            "42.jpg 1\n",
            "82.jpg 1\n",
            "41.jpg 0\n",
            "61.jpg 1\n",
            "63.jpg 1\n",
            "54.jpg 1\n",
            "51.jpg 1\n",
            "53.jpg 1\n",
            "46.jpg 1\n",
            "47.jpg 0\n",
            "59.jpg 0\n",
            "77.jpg 0\n",
            "83.jpg 1\n",
            "27.jpg 0\n",
            "20.jpg 1\n",
            "92.jpg 1\n",
            "9.jpg 0\n",
            "16.jpg 0\n",
            "75.jpg 0\n",
            "72.jpg 0\n",
            "85.jpg 0\n",
            "76.jpg 0\n",
            "94.jpg 1\n",
            "93.jpg 0\n",
            "31.jpg 0\n",
            "68.jpg 0\n",
            "69.jpg 1\n",
            "79.jpg 0\n",
            "91.jpg 0\n",
            "32.jpg 0\n",
            "73.jpg 1\n",
            "97.jpg 0\n",
            "2.jpg 0\n",
            "10.jpg 0\n",
            "48.jpg 1\n",
            "21.jpg 1\n",
            "33.jpg 0\n",
            "17.jpg 0\n",
            "29.jpg 1\n",
            "57.jpg 0\n",
            "90.jpg 1\n",
            "12.jpg 0\n",
            "28.jpg 1\n",
            "30.jpg 1\n",
            "3.jpg 1\n",
            "34.jpg 0\n",
            "8.jpg 0\n",
            "67.jpg 1\n",
            "70.jpg 0\n",
            "86.jpg 0\n",
            "43.jpg 0\n",
            "35.jpg 0\n",
            "6.jpg 0\n",
            "38.jpg 0\n",
            "56.jpg 0\n",
            "88.jpg 0\n",
            "19.jpg 1\n",
            "22.jpg 1\n",
            "84.jpg 1\n",
            "4.jpg 0\n",
            "64.jpg 0\n",
            "18.jpg 0\n",
            "39.jpg 0\n",
            "25.jpg 1\n",
            "98.jpg 0\n",
            "78.jpg 0\n",
            "1.jpg 1\n",
            "44.jpg 0\n",
            "65.jpg 0\n",
            "7.jpg 1\n",
            "71.jpg 0\n",
            "55.jpg 0\n",
            "45.jpg 0\n",
            "66.jpg 0\n",
            "60.jpg 0\n",
            "49.jpg 0\n",
            "5.jpg 1\n",
            "81.jpg 1\n",
            "80.jpg 0\n",
            "58.jpg 0\n",
            "74.jpg 0\n",
            "11.jpg 1\n",
            "62.jpg 0\n",
            "36.jpg 0\n",
            "87.jpg 0\n",
            "15.jpg 1\n",
            "89.jpg 0\n",
            "50.jpg 1\n"
          ],
          "name": "stdout"
        }
      ]
    },
    {
      "cell_type": "code",
      "metadata": {
        "id": "UhL7WwOrISGv"
      },
      "source": [
        "import json\n",
        "\n",
        "with open('output.json', 'w') as outfile:\n",
        "  json.dump(test_data, outfile)\n",
        "  \n"
      ],
      "execution_count": 46,
      "outputs": []
    },
    {
      "cell_type": "code",
      "metadata": {
        "id": "XvQXldfCJjLQ"
      },
      "source": [
        ""
      ],
      "execution_count": null,
      "outputs": []
    }
  ]
}